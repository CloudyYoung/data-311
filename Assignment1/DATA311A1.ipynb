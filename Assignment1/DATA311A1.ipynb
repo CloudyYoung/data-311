{
 "cells": [
  {
   "cell_type": "code",
   "execution_count": 1,
   "metadata": {
    "colab_type": "text",
    "id": "ju3xFj6mrTmf"
   },
   "outputs": [],
   "source": [
    "# DATA311 Assignment 1"
   ]
  },
  {
   "cell_type": "markdown",
   "metadata": {
    "colab_type": "text",
    "id": "yH_8XDOjrTmg"
   },
   "source": [
    "Enter the filename below:"
   ]
  },
  {
   "cell_type": "code",
   "execution_count": 2,
   "metadata": {
    "colab": {},
    "colab_type": "code",
    "id": "yLpWoTObrTmh"
   },
   "outputs": [],
   "source": [
    "filename = \"UK-Bank-Customers.csv\""
   ]
  },
  {
   "cell_type": "markdown",
   "metadata": {
    "colab_type": "text",
    "id": "aGcbVjOrrTmk"
   },
   "source": [
    "Global imports & constants\n",
    "* you should not need more imports than this"
   ]
  },
  {
   "cell_type": "code",
   "execution_count": 3,
   "metadata": {
    "colab": {},
    "colab_type": "code",
    "id": "LnAXw7oVrTmk"
   },
   "outputs": [],
   "source": [
    "%matplotlib inline\n",
    "import csv\n",
    "import matplotlib.pyplot as plt\n",
    "plt.rcParams[\"figure.figsize\"] = [10, 3]"
   ]
  },
  {
   "cell_type": "markdown",
   "metadata": {
    "colab_type": "text",
    "id": "fn-KpmQOrTmn"
   },
   "source": [
    "Code below opens the file 'filename' and reads in the data."
   ]
  },
  {
   "cell_type": "code",
   "execution_count": 4,
   "metadata": {
    "colab": {},
    "colab_type": "code",
    "id": "rPDTULOLrTmo"
   },
   "outputs": [
    {
     "name": "stdout",
     "output_type": "stream",
     "text": [
      "['Customer ID', 'Name', 'Surname', 'Gender', 'Age', 'Region', 'Job Classification', 'Date Joined', 'Balance']\n"
     ]
    }
   ],
   "source": [
    "#\n",
    "# insert code that reads in the data\n",
    "\n",
    "csvfile=[]\n",
    "csvreader = None;\n",
    "\n",
    "# csvreader = csv.DictReader(open(filename, \"r\"))\n",
    "with open(filename, \"r\", encoding='UTF-8') as file: \n",
    "\tcsvreader = csv.DictReader(file)\n",
    "\tfor row in csvreader:\n",
    "\t\tcsvfile.append(row) #appends row in the list structure to store the csv file\n",
    "\tcolumns = list(csvreader.fieldnames)\n",
    "\n",
    "print(columns)\n",
    "\n",
    "#"
   ]
  },
  {
   "cell_type": "markdown",
   "metadata": {
    "colab_type": "text",
    "id": "QzQEXGlsrTmp"
   },
   "source": [
    "Code below computes everything that needs to be computed and stores it in memory.\n",
    "This code should not print anything."
   ]
  },
  {
   "cell_type": "code",
   "execution_count": 5,
   "metadata": {
    "colab": {},
    "colab_type": "code",
    "id": "UXyXGJpCrTmq"
   },
   "outputs": [],
   "source": [
    "#\n",
    "# insert code that computes (in memory):\n",
    "#  min, max, average, std. dev, most common value, histogram values\n",
    "# for every column\n",
    "\n",
    "table = [[\"Columns\", \"Min\", \"Max\", \"Avg\", \"Std. Dev.\", \"Most Common Word\"]]\n",
    "\n",
    "# iteration for \n",
    "for column in columns:\n",
    "\tallValues = []\n",
    "\tvalidValues = []\n",
    "\thasUnvalid = False\n",
    "\tdataRow = [column]\n",
    "\tfor row in csvfile:\n",
    "\t\tallValues.append(row[column])\n",
    "\t\ttry:\n",
    "\t\t\tvalue = float(row[column])\n",
    "\t\t\tvalidValues.append(value);\n",
    "\t\texcept ValueError:\n",
    "\t\t\thasUnvalid = True\n",
    "\n",
    "\t# Item 1-3\n",
    "\tif hasUnvalid:\n",
    "\t\tdataRow.append(\"n/a\")\n",
    "\t\tdataRow.append(\"n/a\")\n",
    "\t\tdataRow.append(\"n/a\")\n",
    "\telse:\n",
    "\t\tdataRow.append(min(validValues)) # min value\n",
    "\t\tdataRow.append(max(validValues)) # max value\n",
    "\t\tdataRow.append(sum(validValues) / len(validValues)) # average value\n",
    "\n",
    "\n",
    "\t# Item 4\n",
    "\tif len(validValues) >= 2:\n",
    "\t\tdifference = 0\n",
    "\t\tvariance = 0\n",
    "\t\tstandardDeviation = 0\n",
    "\t\tmean = sum(validValues) / len(validValues)\n",
    "\t\tfor each in validValues:\n",
    "\t\t\tdifference += (each - mean) ** 2\n",
    "\t\tvariance = difference / len(validValues)\n",
    "\t\tstandardDeviation = variance ** (1 / 2)\n",
    "\t\tdataRow.append(standardDeviation)\n",
    "\telse:\n",
    "\t\tdataRow.append('n/a')\n",
    "\n",
    "\t# Item 5\n",
    "\tif len(allValues) > 0:\n",
    "\t\tmostFrequent = max(set(allValues), key = allValues.count)\n",
    "\t\tdataRow.append(mostFrequent)\n",
    "\telse:\n",
    "\t\tdataRow.append(\"n/a\")\n",
    "\t\n",
    "\t# add to table\n",
    "\ttable.append(dataRow)\n",
    "\n"
   ]
  },
  {
   "cell_type": "markdown",
   "metadata": {
    "colab_type": "text",
    "id": "JGO3rs77rTms"
   },
   "source": [
    "Print the results in a nicely formatted table. Feel free to use the provided print_table() function.\n",
    "For columns that contain at least one non-numeric value, report 'n/a' in Min/Max/Avg/std.avg columns."
   ]
  },
  {
   "cell_type": "code",
   "execution_count": 6,
   "metadata": {
    "colab": {
     "base_uri": "https://localhost:8080/",
     "height": 119
    },
    "colab_type": "code",
    "executionInfo": {
     "elapsed": 554,
     "status": "ok",
     "timestamp": 1537760709423,
     "user": {
      "displayName": "Pavol Federl",
      "photoUrl": "",
      "userId": "10031980861238611307"
     },
     "user_tz": 360
    },
    "id": "oIgAAhX7rTmt",
    "outputId": "fa85d85e-8693-4027-ade3-69c3b52bf4f8"
   },
   "outputs": [
    {
     "name": "stdout",
     "output_type": "stream",
     "text": [
      "            Columns |         Min |         Max |                Avg |          Std. Dev. | Most Common Word \n",
      "--------------------------------------------------------------------------------------------------------------\n",
      "        Customer ID | 100000001.0 | 400003848.0 | 169683123.59367216 |  88642695.10393307 |        100001928 \n",
      "               Name |         n/a |         n/a |                n/a |                n/a |            Jason \n",
      "            Surname |         n/a |         n/a |                n/a |                n/a |             Kerr \n",
      "             Gender |         n/a |         n/a |                n/a |                n/a |             Male \n",
      "                Age |        15.0 |        64.0 | 38.611111111111114 |   9.81789779947361 |               34 \n",
      "             Region |         n/a |         n/a |                n/a |                n/a |          England \n",
      " Job Classification |         n/a |         n/a |                n/a |                n/a |     White Collar \n",
      "        Date Joined |         n/a |         n/a |                n/a |                n/a |        24.Sep.15 \n",
      "            Balance |       11.52 |    183467.7 |  39766.44827354263 | 29855.769542012953 |         13162.58 \n"
     ]
    }
   ],
   "source": [
    "#\n",
    "# replace the codde below with something that prints out the results\n",
    "#\n",
    "def print_table(table):\n",
    "    longest_cols = [\n",
    "        (max([len(str(row[i])) for row in table]) + 0) for i in range(len(table[0]))\n",
    "    ]\n",
    "    row_format = \"|\".join([\" {:>\" + str(longest_col) + \"} \" for longest_col in longest_cols])\n",
    "    first = True\n",
    "    for row in table:\n",
    "        print(row_format.format(*row))\n",
    "        if first:\n",
    "            print((sum(longest_cols) + (len(table[0]) - 0) * 3) * \"-\")\n",
    "            first = False\n",
    "\n",
    "# print above table\n",
    "print_table(table)"
   ]
  },
  {
   "cell_type": "markdown",
   "metadata": {
    "colab_type": "text",
    "id": "xaIIguvjrTmx"
   },
   "source": [
    "Colde below displays the histograms for each column (where applicable)."
   ]
  },
  {
   "cell_type": "code",
   "execution_count": 7,
   "metadata": {
    "colab": {
     "base_uri": "https://localhost:8080/",
     "height": 644
    },
    "colab_type": "code",
    "executionInfo": {
     "elapsed": 838,
     "status": "ok",
     "timestamp": 1537760710319,
     "user": {
      "displayName": "Pavol Federl",
      "photoUrl": "",
      "userId": "10031980861238611307"
     },
     "user_tz": 360
    },
    "id": "sneer9pNrTmy",
    "outputId": "a7bf7caf-a333-409a-e11c-57b1b7d50bf2",
    "scrolled": true
   },
   "outputs": [
    {
     "data": {
      "image/png": "[encoded data removed]",
      "text/plain": [
       "<Figure size 432x288 with 1 Axes>"
      ]
     },
     "metadata": {
      "needs_background": "light"
     },
     "output_type": "display_data"
    },
    {
     "data": {
      "image/png": "[encoded data removed]",
      "text/plain": [
       "<Figure size 432x288 with 1 Axes>"
      ]
     },
     "metadata": {
      "needs_background": "light"
     },
     "output_type": "display_data"
    },
    {
     "data": {
      "image/png": "[encoded data removed]",
      "text/plain": [
       "<Figure size 432x288 with 1 Axes>"
      ]
     },
     "metadata": {
      "needs_background": "light"
     },
     "output_type": "display_data"
    }
   ],
   "source": [
    "#\n",
    "# replace the code below with your own code that draws the histograms for each column that contains numeric data\n",
    "\n",
    "# import random\n",
    "# columnNames = [\"Age\", \"Savings\", \"Loan\"]\n",
    "# columns = [[random.random() for i in range(10)] for c in columnNames]\n",
    "\n",
    "# for c in range(len(columnNames)):\n",
    "#     x = range(len(columns[c]))\n",
    "#     plt.bar(x, columns[c], color=\"red\")\n",
    "#     plt.title(columnNames[c])\n",
    "#     plt.show()\n",
    "\n",
    "# graph\n",
    "for column in columns:\n",
    "\tallValues = []\n",
    "\thasUnvalid = False;\n",
    "\tfor row in csvfile:\n",
    "\t\ttry:\n",
    "\t\t\tallValues.append(float(row[column]))\n",
    "\t\texcept ValueError:\n",
    "\t\t\thasUnvalid = True\n",
    "\n",
    "\tif hasUnvalid is False:\n",
    "\t\tuniqueValue = dict.fromkeys(sorted(set(allValues)), 0) # unique all values and sort and convert into dictonary - key(value name): value(times of presence)\n",
    "\t\tfor key, value in uniqueValue.items():\n",
    "\t\t\tuniqueValue[key] = allValues.count(key) / len(uniqueValue.keys());\n",
    "\n",
    "\t\tplt.bar(uniqueValue.keys(), uniqueValue.values(), color = \"red\")\n",
    "\t\tplt.title(column)\n",
    "\t\tplt.show()"
   ]
  },
  {
   "cell_type": "code",
   "execution_count": null,
   "metadata": {
    "colab": {},
    "colab_type": "code",
    "id": "qWgpWenhrTm1"
   },
   "outputs": [],
   "source": []
  },
  {
   "cell_type": "code",
   "execution_count": null,
   "metadata": {},
   "outputs": [],
   "source": []
  }
 ],
 "metadata": {
  "colab": {
   "name": "DATA311A1.ipynb",
   "provenance": [],
   "version": "0.3.2"
  },
  "kernelspec": {
   "display_name": "Python 3",
   "language": "python",
   "name": "python3"
  },
  "language_info": {
   "codemirror_mode": {
    "name": "ipython",
    "version": 3
   },
   "file_extension": ".py",
   "mimetype": "text/x-python",
   "name": "python",
   "nbconvert_exporter": "python",
   "pygments_lexer": "ipython3",
   "version": "3.7.3"
  }
 },
 "nbformat": 4,
 "nbformat_minor": 1
}